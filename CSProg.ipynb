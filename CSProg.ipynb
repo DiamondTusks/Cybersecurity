{
  "nbformat": 4,
  "nbformat_minor": 0,
  "metadata": {
    "colab": {
      "provenance": [],
      "toc_visible": true,
      "authorship_tag": "ABX9TyMV44+PY4j7ghyBvq8efzo2",
      "include_colab_link": true
    },
    "kernelspec": {
      "name": "python3",
      "display_name": "Python 3"
    },
    "language_info": {
      "name": "python"
    }
  },
  "cells": [
    {
      "cell_type": "markdown",
      "metadata": {
        "id": "view-in-github",
        "colab_type": "text"
      },
      "source": [
        "<a href=\"https://colab.research.google.com/github/DiamondTusks/Cybersecurity/blob/main/CSProg.ipynb\" target=\"_parent\"><img src=\"https://colab.research.google.com/assets/colab-badge.svg\" alt=\"Open In Colab\"/></a>"
      ]
    },
    {
      "cell_type": "markdown",
      "source": [
        "# Linux Lab"
      ],
      "metadata": {
        "id": "b3tEIUmBysBf"
      }
    },
    {
      "cell_type": "markdown",
      "source": [
        "### **Find and initialise your new storage device**\n",
        "\n",
        "Use the lsblk command to view the block devices and find your new storage device.\n",
        "\n",
        "```\n",
        "sudo lsblk\n",
        "```\n",
        "\n",
        "Let's assume your new storage device is /dev/sdb. \n",
        "Initialise the disk with fdisk.\n",
        "\n",
        "```\n",
        "sudo fdisk /dev/sdb\n",
        "```\n",
        "\n",
        "Inside the fdisk utility:\n",
        "\n",
        "press `n` to create a new partition,\n",
        "\n",
        "press `p` for primary,\n",
        "\n",
        "then `1` for the first partition. \n",
        "\n",
        "Press `Enter` to accept the default values for the first sector.\n",
        "\n",
        "If you plan to have more partitions, follow instructions on screen, eg. type `+10G` for last sector if you want to allocate 10GB to the partition. Otherwise just press `Enter`.\n",
        "\n",
        "Press `w` to write the partition table and exit.\n",
        "\n",
        "\n",
        "### **Mount your new storage device to /var/www/html/wordpress/**\n",
        "\n",
        "Create the mount point.\n",
        "\n",
        "```\n",
        "sudo mkdir -p /var/www/html/wordpress/\n",
        "```\n",
        "\n",
        "Mount the partition to this directory.\n",
        "\n",
        "```\n",
        "sudo mount /dev/sdb1 /var/www/html/wordpress/\n",
        "```\n",
        "\n",
        "\n"
      ],
      "metadata": {
        "id": "ZeeCP5qDzY26"
      }
    },
    {
      "cell_type": "markdown",
      "source": [
        "###**Deploy WordPress to the `/var/www/html/wordpress/` directory and install it**\n",
        "\n",
        "We are using the LAMP stack software bundle.\n",
        "\n",
        "LAMP stands for Linux, Apache, MySQL, and PHP. Together, they provide a powerful web server environment. \n",
        "\n",
        "Here are the general steps to install a full LAMP stack and deploy WordPress on CentOS Stream 9. \n",
        "\n",
        "MySQL has already been deployed. You can see it with `systemctl status mysqld`. Database name, username and password has been set to `wordpress`.\n",
        "\n",
        "Please note that this is a general guide, and depending on your specific setup and needs, you might need to adjust these steps.\n",
        "\n",
        "1. **Update your system**: Keep your system up-to-date.\n",
        "\n",
        "    ```bash\n",
        "    sudo dnf update -y\n",
        "    ```\n",
        "\n",
        "2. **Install Apache**: Apache is a web server software.\n",
        "\n",
        "    ```bash\n",
        "    sudo dnf install httpd -y\n",
        "    ```\n",
        "    \n",
        "    After installation, you need to start and enable Apache to make sure it starts automatically at system boot.\n",
        "\n",
        "    ```bash\n",
        "    sudo systemctl start httpd\n",
        "    sudo systemctl enable httpd\n",
        "    ```\n",
        "\n",
        "3. **Install PHP**: PHP is a popular scripting language that is especially suited to web development.\n",
        "\n",
        "    ```bash\n",
        "    sudo dnf install php php-mysqlnd -y\n",
        "    ```\n",
        "\n",
        "    After the installation, restart Apache to make sure it recognizes and uses PHP.\n",
        "\n",
        "    ```bash\n",
        "    sudo systemctl restart httpd\n",
        "    ```\n",
        "\n",
        "5. **Download and Install WordPress**: \n",
        "\n",
        "    First, navigate to the Apache document root.\n",
        "\n",
        "    ```bash\n",
        "    cd /var/www/html/\n",
        "    ```\n",
        "    Download `wget` is required:\n",
        "    ```bash\n",
        "    sudo dnf install wget\n",
        "    ```\n",
        "\n",
        "    Download WordPress.\n",
        "\n",
        "    ```bash\n",
        "    sudo wget http://wordpress.org/latest.tar.gz\n",
        "    ```\n",
        "\n",
        "    Extract the downloaded file.\n",
        "\n",
        "    ```bash\n",
        "    sudo tar xzvf latest.tar.gz\n",
        "    ```\n",
        "    \n",
        "    Remove compressed file.\n",
        "    ```bash\n",
        "    sudo rm latest.tar.gz\n",
        "    ```\n",
        "\n",
        "    Now, you should have a WordPress directory in `/var/www/html/`.\n",
        "\n",
        "6. **Configure WordPress**:\n",
        "\n",
        "    Move to the WordPress directory.\n",
        "\n",
        "    ```bash\n",
        "    cd /var/www/html/wordpress/\n",
        "    ```\n",
        "\n",
        "    Copy the sample WordPress config file to create your own config file.\n",
        "\n",
        "    ```bash\n",
        "    sudo cp wp-config-sample.php wp-config.php\n",
        "    ```\n",
        "\n",
        "    Open the WordPress config file and replace the 'database_name_here', 'username_here', and 'password_here' placeholders with your database details.\n",
        "\n",
        "    ```bash\n",
        "    sudo vi wp-config.php\n",
        "    ```\n",
        "\n",
        "8. **Update httpd.conf**:\n",
        "    The main Apache (httpd) configuration file is usually found at `/etc/httpd/conf/httpd.conf` on CentOS systems. You can open and edit it using a text editor such as `nano` or `vi`. Here is how you can do it with `vi`:\n",
        "\n",
        "    ```bash\n",
        "    sudo vi /etc/httpd/conf/httpd.conf\n",
        "    ```\n",
        "\n",
        "    **DocumentRoot**: This is the directory out of which you will serve your documents. By default, all requests are taken from this directory, but symbolic links and aliases may be used to point to other locations.\n",
        "\n",
        "    ```conf\n",
        "    DocumentRoot \"/var/www/html/wordpress\"\n",
        "    ```\n",
        "    Press `i` to edit/insert\n",
        "    Press `esc` then to save and exit type `:wq` and press ENTER\n",
        "\n",
        "    Remember to always back up your configuration files before making changes.\n",
        "\n",
        "    After making changes to the configuration file, you need to restart Apache to apply the changes:\n",
        "\n",
        "    ```bash\n",
        "    sudo systemctl restart httpd\n",
        "    ```\n",
        "\n",
        "\n",
        "9. **Finalizing Installation via Web Interface**:\n",
        "\n",
        "    Finally, open your web browser and navigate to your server's domain name or public IP address followed by /wordpress: `http://domain_or_IP`.\n",
        "\n",
        "    Follow the WordPress web interface to finalize the installation. This will include setting up a site name, username, password, and email.\n"
      ],
      "metadata": {
        "id": "hoL3vd-zeHoO"
      }
    },
    {
      "cell_type": "markdown",
      "source": [
        "###**Configure permissions so that WordPress owns its own files**\n",
        "\n",
        "When you install WordPress, the files and folders are typically owned by the web server user. This can be a security risk, as it allows the web server user to modify or delete WordPress files. \n",
        "\n",
        "To improve security, it is best to configure WordPress to own its own files.\n",
        "\n",
        "To do this, you will need to change the ownership of the files and folders to the user that owns the WordPress process. \n",
        "\n",
        "This can be done using an FTP client or SSH. Once you have changed the ownership, you will need to change the permissions on the files and folders. \n",
        "\n",
        "The permissions should be set to 644 for files and 755 for folders.\n",
        "\n",
        "1.  **Change the ownership of the files and directories**:\n",
        "    ```bash\n",
        "    sudo chown -R apache:apache /var/www/html/wordpress/\n",
        "    ```\n",
        "  \n",
        "2.  **Limit permissions for wp-config.php**:\n",
        "    ```bash\n",
        "    sudo chmod 400 /var/www/html/wordpress/wp-config.php\n",
        "    ```\n",
        "3.  **File and directory permissions**:\n",
        "\n",
        "    All other file permissions should be left at their default values.\n",
        "\n",
        "    By default, files should be 644, and directories should be 755.\n",
        "\n",
        "    If otherwise:\n",
        "    ```bash\n",
        "    sudo find /var/www/html/wordpress/ -type d -exec chmod 755 {} \\;\n",
        "    sudo find /var/www/html/wordpress/ -type f -exec chmod 644 {} \\;\n",
        "    ```\n",
        "4.  **Use rsync**:\n",
        "    ```\n",
        "    rsync -avz --delete /var/www/html/wordpress/ /backups/wordpress/\n",
        "    ```\n",
        "5.  **Automate**:\n",
        "    ```bash\n",
        "    crontab -e\n",
        "    ```\n",
        "    then in vim:\n",
        "    press i to insert/edit\n",
        "    ```vim\n",
        "    59 23 * * * rsync -avz --delete /var/www/html/wordpress/ /backups/wordpress/\n",
        "    ```\n",
        "    then press `esc` to exit insert mode\n",
        "    then type `:wq` and press `enter` to save and exit\n",
        "6.  **Create compressed file**:\n",
        "    ```\n",
        "    tar -zcvf /backups/wordpress.tar.gz /backups/wordpress/\n",
        "    ```"
      ],
      "metadata": {
        "id": "hFRpHVdfq7-q"
      }
    },
    {
      "cell_type": "markdown",
      "source": [
        "### **Create a compressed archive of the /backups/wordpress/ directory**\n",
        "    It should be possible to restore the directory with this command: sudo tar xpvf /backups/wordpress.tar.* \n",
        "    ```\n",
        "    sudo tar cvpf /backups/wordpress.tar.gz wordpress\n",
        "    ```"
      ],
      "metadata": {
        "id": "RK7G-VG91vvQ"
      }
    },
    {
      "cell_type": "markdown",
      "source": [
        " Configure a firewall to:\n",
        "a. Allow all network access for ssh on port 22\n",
        "b. Reject all remote machines network access for mysql on its service port\n",
        "c. Allow all network access for your unpopulated WordPress website\n",
        "\n",
        "Drop incoming connections from all unused ports for the default zone"
      ],
      "metadata": {
        "id": "J4RzdGFrUEWA"
      }
    },
    {
      "cell_type": "markdown",
      "source": [
        "Ensure that Apache httpd has read and write access to all files within\n",
        "\n",
        "Configure SELinux security contexts for /srv/wordpress/ to persist after a reboot\n",
        "\n",
        "Ensure that WordPress can update itself with SELinux enabled, even after a reboot"
      ],
      "metadata": {
        "id": "cLTqVOuxzKcI"
      }
    },
    {
      "cell_type": "markdown",
      "source": [
        "**Deploy Drupal**\n",
        "\n",
        "Deploy Drupal to the /var/www/html/drupal/ directory\n",
        "\n",
        "Install Drupal and configure it with the Standard installation profile\n",
        "\n",
        "Ensure that Drupal is fully working after completion\n"
      ],
      "metadata": {
        "id": "CniEp9u7yfT-"
      }
    },
    {
      "cell_type": "markdown",
      "source": [
        "# Cyber Enhancement Module\n"
      ],
      "metadata": {
        "id": "SIc6_EvLv1A-"
      }
    },
    {
      "cell_type": "markdown",
      "source": [
        "##**Encryption and Decryption**\n",
        "\n",
        "**Encryption:**\n",
        "\n",
        "- Encryption is the process of converting plaintext into ciphertext.\n",
        "- It uses an algorithm and a key to transform the data.\n",
        "- The purpose is to protect the data from unauthorized access.\n",
        "- In the context of the Caesar cipher, encryption involves shifting the letters of the plaintext by a certain number of positions in the alphabet.\n",
        "\n",
        "**Decryption:**\n",
        "\n",
        "- Decryption is the process of converting ciphertext back into plaintext.\n",
        "- It uses the same or a related algorithm and key used for encryption.\n",
        "- The purpose is to retrieve the original data for authorized use.\n",
        "- In the Caesar cipher, decryption involves shifting the letters of the ciphertext back by the same number of positions used in the encryption.\n",
        "\n",
        "**Caesar Cipher:**\n",
        "\n",
        "- The Caesar cipher is a type of substitution cipher where each letter in the plaintext is shifted a certain number of places down or up the alphabet.\n",
        "- For example, with a shift of 1, 'A' would be encrypted as 'B', 'B' as 'C', and so on.\n",
        "- Decryption is done by shifting in the opposite direction.\n",
        "- It's one of the simplest forms of encryption and can be easily broken with frequency analysis or by brute force."
      ],
      "metadata": {
        "id": "0C8t9aClw4lZ"
      }
    },
    {
      "cell_type": "markdown",
      "source": [
        "##**Encryption Keys**\n",
        "\n",
        "- Encryption keys are a fundamental part of cryptography, used to encrypt and decrypt data.\n",
        "\n",
        "- They are a series of numbers and/or letters, typically generated by an algorithm.\n",
        "\n",
        "- There are two main types of encryption keys: symmetric and asymmetric.\n",
        "\n",
        "  - Symmetric keys: Same key is used for both encryption and decryption.\n",
        "    - Example: Advanced Encryption Standard (AES) uses symmetric keys.\n",
        "    - Use Case: Encrypting data at rest, such as files on a hard drive.\n",
        "\n",
        "  - Asymmetric keys: Two different keys are used - a public key for encryption and a private key for decryption.\n",
        "    - Example: RSA (Rivest–Shamir–Adleman) uses asymmetric keys.\n",
        "    - Use Case: Secure communication over the internet, such as HTTPS.\n",
        "\n",
        "- Key length is an important factor in security. The longer the key, the harder it is for someone to break the encryption.\n",
        "\n",
        "- Key management is a critical aspect of encryption. This involves the secure generation, storage, exchange and use of keys.\n",
        "\n",
        "- Keys should be replaced periodically, a practice known as key rotation, to enhance security.\n",
        "\n",
        "- Encryption keys are used in various applications, from securing internet communications, to protecting sensitive data in databases, to encrypting files on personal devices.\n",
        "\n",
        "- Mismanagement or loss of keys can lead to data loss or breaches, highlighting the importance of secure key management practices."
      ],
      "metadata": {
        "id": "hdwSWIrHPJit"
      }
    },
    {
      "cell_type": "markdown",
      "source": [
        "##**The Weakest Factor**\n",
        "The weakest factor in cybersecurity is often considered to be the human element. Here's a description in bullet points:\n",
        "\n",
        "- Human Error: People can unintentionally cause security breaches by falling for phishing scams, using weak passwords, or misconfiguring security settings.\n",
        "\n",
        "- Social Engineering: This is a technique used by attackers to manipulate individuals into giving up sensitive information. It's successful because it exploits human psychology and trust.\n",
        "  - Example: A common type of social engineering is a phishing email, where the attacker pretends to be a trusted entity (like a bank or a friend) and convinces the victim to reveal sensitive data or click on a malicious link.\n",
        "\n",
        "- Lack of Training: Employees who are not trained in cybersecurity best practices are more likely to make mistakes that lead to breaches.\n",
        "\n",
        "- Insider Threats: Sometimes, the threat comes from within the organization. A disgruntled employee, for example, might intentionally harm the company's systems or leak sensitive data.\n",
        "\n",
        "- Password Misuse: Using weak passwords, sharing passwords, or not changing default passwords are common issues.\n",
        "  - Example: Passwords like \"123456\" or \"password\" are incredibly easy for attackers to guess.\n",
        "\n",
        "- Poor Patch Management: Not updating or patching software and systems in a timely manner can leave known vulnerabilities open for exploitation.\n",
        "\n",
        "- Techniques to Mitigate Risk:\n",
        "  - Regular Training: Continually educate employees about the latest threats and how to avoid them.\n",
        "  - Use Strong, Unique Passwords: Implement a robust password policy in the organization.\n",
        "  - Regular Patching and Updates: Ensure all systems and software are up-to-date.\n",
        "  - Implement Multi-Factor Authentication: This adds an extra layer of security, making it harder for attackers to gain access even if they have the password.\n",
        "  - Regular Audits and Monitoring: Keep a keen eye on system activities to detect any suspicious behavior early.\n"
      ],
      "metadata": {
        "id": "T50WrxXyQHUs"
      }
    }
  ]
}