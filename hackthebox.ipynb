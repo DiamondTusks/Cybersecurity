{
  "nbformat": 4,
  "nbformat_minor": 0,
  "metadata": {
    "colab": {
      "provenance": [],
      "authorship_tag": "ABX9TyNYssi00RiWlbha1niyog2Z",
      "include_colab_link": true
    },
    "kernelspec": {
      "name": "python3",
      "display_name": "Python 3"
    },
    "language_info": {
      "name": "python"
    }
  },
  "cells": [
    {
      "cell_type": "markdown",
      "metadata": {
        "id": "view-in-github",
        "colab_type": "text"
      },
      "source": [
        "<a href=\"https://colab.research.google.com/github/dirkpmueller/Cybersecurity/blob/main/hackthebox.ipynb\" target=\"_parent\"><img src=\"https://colab.research.google.com/assets/colab-badge.svg\" alt=\"Open In Colab\"/></a>"
      ]
    },
    {
      "cell_type": "markdown",
      "source": [
        "##**Hack the box**\n",
        "- set up VMware\n",
        "- downloaded and installed Parrot OS Security\n",
        "- downloaded and run OpenVPN\n"
      ],
      "metadata": {
        "id": "9ssdICmdwAu1"
      }
    },
    {
      "cell_type": "markdown",
      "source": [
        "##**Tier 0 Lab1**\n"
      ],
      "metadata": {
        "id": "h9I89PIZ4YMo"
      }
    }
  ]
}